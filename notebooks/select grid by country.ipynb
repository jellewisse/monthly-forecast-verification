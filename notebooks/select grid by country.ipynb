{
 "cells": [
  {
   "cell_type": "markdown",
   "id": "13a608e8",
   "metadata": {},
   "source": [
    "### reading seasonal forecast"
   ]
  },
  {
   "cell_type": "code",
   "execution_count": null,
   "id": "bb2b281a",
   "metadata": {
    "scrolled": true
   },
   "outputs": [],
   "source": [
    "\n",
    "import xarray as xr\n",
    "\n",
    "with xr.open_dataset('../example data/SEAS5_202210_2m_temperature_anomaly.nc') as ds:\n",
    "    ds"
   ]
  },
  {
   "cell_type": "markdown",
   "id": "3210519c",
   "metadata": {},
   "source": [
    "### reading shape file"
   ]
  },
  {
   "cell_type": "code",
   "execution_count": null,
   "id": "ade9cc88",
   "metadata": {},
   "outputs": [],
   "source": [
    "### reading shape file\n",
    "import matplotlib.path as mpath\n",
    "import xarray as xr\n",
    "import fiona\n",
    "import shapely\n",
    "\n",
    "# Step 1: Load the shapefile vertices\n",
    "shapefile_path = '../example data/worldmap.shp'\n",
    "with fiona.open(shapefile_path, \"r\") as shp:\n",
    "    shapes = [feature for feature in shp]"
   ]
  },
  {
   "cell_type": "markdown",
   "id": "a734b39b",
   "metadata": {},
   "source": [
    "### select country shape"
   ]
  },
  {
   "cell_type": "code",
   "execution_count": null,
   "id": "6196aa19",
   "metadata": {},
   "outputs": [],
   "source": [
    "for s in shapes:\n",
    "    if s.properties['CNTRY_NAME'] == 'Germany':\n",
    "        shape=s"
   ]
  },
  {
   "cell_type": "markdown",
   "id": "a5c9b917",
   "metadata": {},
   "source": [
    "### add a small buffer to the shape"
   ]
  },
  {
   "cell_type": "code",
   "execution_count": null,
   "id": "89dc200c",
   "metadata": {},
   "outputs": [],
   "source": [
    "shape = shapely.geometry.shape(shape['geometry']).buffer(0.2)\n",
    "x, y = shape.exterior.coords.xy"
   ]
  },
  {
   "cell_type": "code",
   "execution_count": null,
   "id": "f66a0fc1",
   "metadata": {},
   "outputs": [],
   "source": [
    "shape"
   ]
  },
  {
   "cell_type": "code",
   "execution_count": null,
   "id": "84ce0a63",
   "metadata": {},
   "outputs": [],
   "source": [
    "# Plot the shape using matplotlib\n",
    "import matplotlib.pyplot as plt\n",
    "fig, ax = plt.subplots()\n",
    "ax.set_aspect('equal')\n",
    "ax.plot(x,y)\n",
    "plt.show()"
   ]
  },
  {
   "cell_type": "markdown",
   "id": "68d083e1",
   "metadata": {},
   "source": [
    "### select grid points based on country shape"
   ]
  },
  {
   "cell_type": "code",
   "execution_count": null,
   "id": "3e420adf",
   "metadata": {},
   "outputs": [],
   "source": [
    "paths = []\n",
    "if isinstance(shape, shapely.Polygon):\n",
    "    x, y = shape.exterior.coords.xy\n",
    "    coords = list(zip(x,y))\n",
    "    paths.append(mpath.Path(coords))\n",
    "else:    \n",
    "    for s in list(shape.geoms):\n",
    "        x, y = s.exterior.coords.xy\n",
    "        coords = list(zip(x,y))\n",
    "        paths.append(mpath.Path(coords))\n",
    "\n",
    "lat = ds.latitude.values\n",
    "lon = ds.longitude.values\n",
    "\n",
    "# Step 5: Create a boolean mask based on the shapefile\n",
    "\n",
    "\n",
    "lons,lats = np.meshgrid(lon,lat)\n",
    "\n",
    "mask = np.full([lat.shape[0],lon.shape[0]],False)\n",
    "for p in paths:\n",
    "    _mask = p.contains_points(list(zip(lons.flatten(), lats.flatten())))\n",
    "    _mask = _mask.reshape(lat.shape[0],lon.shape[0])\n",
    "    mask = mask|_mask\n",
    "    \n",
    "\n",
    "\n",
    "# Step 6: Apply the mask to the dataset\n",
    "masked_dataset = ds.isel(time=0).where(mask)\n",
    "\n",
    "# Access the masked dataset's variable like this:\n",
    "masked_variable = masked_dataset['t2a']"
   ]
  },
  {
   "cell_type": "code",
   "execution_count": null,
   "id": "6f6291d2",
   "metadata": {},
   "outputs": [],
   "source": []
  },
  {
   "cell_type": "code",
   "execution_count": null,
   "id": "7f221f21",
   "metadata": {},
   "outputs": [],
   "source": [
    "import cartopy.crs as ccrs\n",
    "import cartopy.feature as cf\n",
    "import matplotlib.pyplot as plt\n",
    "fig, ax = plt.subplots(figsize=(20, 10), subplot_kw=dict(projection=ccrs.PlateCarree()))\n",
    "\n",
    "masked_variable.plot(ax=ax)\n",
    "ax.add_feature(cf.COASTLINE)\n",
    "ax.add_feature(cf.BORDERS)\n",
    "\n",
    "ax.set_xlim(-20,30)\n",
    "ax.set_ylim(30,70)"
   ]
  },
  {
   "cell_type": "code",
   "execution_count": null,
   "id": "d162328a",
   "metadata": {},
   "outputs": [],
   "source": []
  },
  {
   "cell_type": "code",
   "execution_count": null,
   "id": "95b76c60",
   "metadata": {
    "scrolled": false
   },
   "outputs": [],
   "source": [
    "mask.shape"
   ]
  },
  {
   "cell_type": "code",
   "execution_count": null,
   "id": "a4ce2928",
   "metadata": {},
   "outputs": [],
   "source": [
    "# List of coordinates\n",
    "coordinates = [(0, 0), (1, 1), (2, 0), (1, -1)]\n",
    "\n",
    "# Create the Path\n",
    "path_data = mpath.Path(coordinates)\n"
   ]
  }
 ],
 "metadata": {
  "kernelspec": {
   "display_name": "energy39",
   "language": "python",
   "name": "energy39"
  },
  "language_info": {
   "codemirror_mode": {
    "name": "ipython",
    "version": 3
   },
   "file_extension": ".py",
   "mimetype": "text/x-python",
   "name": "python",
   "nbconvert_exporter": "python",
   "pygments_lexer": "ipython3",
   "version": "3.9.16"
  }
 },
 "nbformat": 4,
 "nbformat_minor": 5
}
