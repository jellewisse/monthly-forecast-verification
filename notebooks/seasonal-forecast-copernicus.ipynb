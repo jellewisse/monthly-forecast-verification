{
 "cells": [
  {
   "cell_type": "markdown",
   "id": "76d04c7e",
   "metadata": {},
   "source": [
    "## seasonal monthly forecast from Copernicus\n",
    "see https://cds.climate.copernicus.eu/cdsapp#!/dataset/seasonal-postprocessed-single-levels?tab=overview\n",
    "for information"
   ]
  },
  {
   "cell_type": "markdown",
   "id": "1502aa2f",
   "metadata": {},
   "source": [
    "### download SEAS5 single level t2m anomaly"
   ]
  },
  {
   "cell_type": "code",
   "execution_count": null,
   "id": "90f4f3fc",
   "metadata": {},
   "outputs": [],
   "source": [
    "import cdsapi\n",
    "\n",
    "c = cdsapi.Client()\n",
    "\n",
    "c.retrieve(\n",
    "    'seasonal-postprocessed-single-levels',\n",
    "    {\n",
    "        'format': 'netcdf',\n",
    "        'originating_centre': 'ecmwf',\n",
    "        'product_type': 'ensemble_mean',\n",
    "        'variable': '2m_temperature_anomaly',\n",
    "        'year': '2022',\n",
    "        'month': '10',\n",
    "        'leadtime_month': [\n",
    "            '1', '2', '3',\n",
    "            '4', '5', '6',\n",
    "        ],\n",
    "        'system': '5',\n",
    "    },\n",
    "    'SEAS5_202210_2m_temperature_anomaly.nc')"
   ]
  },
  {
   "cell_type": "markdown",
   "id": "f20c7af2",
   "metadata": {},
   "source": [
    "### download single members of seasonal forecast"
   ]
  },
  {
   "cell_type": "code",
   "execution_count": null,
   "id": "c59cd088",
   "metadata": {},
   "outputs": [],
   "source": [
    "import cdsapi\n",
    "\n",
    "c = cdsapi.Client()\n",
    "\n",
    "c.retrieve(\n",
    "    'seasonal-postprocessed-single-levels',\n",
    "    {\n",
    "        'format': 'netcdf',\n",
    "        'originating_centre': 'ecmwf',\n",
    "        'product_type': 'monthly_mean',\n",
    "        'variable': '2m_temperature_anomaly',\n",
    "        'year': '2023',\n",
    "        'month': '6',\n",
    "        'leadtime_month': [\n",
    "            '1', '2', '3',\n",
    "            '4', '5', '6',\n",
    "        ],\n",
    "        'system': '51',\n",
    "    },\n",
    "    'SEAS5_202210_2m_temperature_anomaly_members.nc')"
   ]
  },
  {
   "cell_type": "markdown",
   "id": "86328fe6",
   "metadata": {},
   "source": [
    "### download UKMO single level t2m anomaly"
   ]
  },
  {
   "cell_type": "code",
   "execution_count": null,
   "id": "ae086771",
   "metadata": {},
   "outputs": [],
   "source": [
    "import cdsapi\n",
    "\n",
    "c = cdsapi.Client()\n",
    "\n",
    "c.retrieve(\n",
    "    'seasonal-postprocessed-single-levels',\n",
    "    {\n",
    "        'format': 'netcdf',\n",
    "        'originating_centre': 'ncep',\n",
    "        'product_type': 'ensemble_mean',\n",
    "        'variable': '2m_temperature_anomaly',\n",
    "        'year': '2022',\n",
    "        'month': '10',\n",
    "        'leadtime_month': [\n",
    "            '1', '2', '3',\n",
    "            '4', '5', '6',\n",
    "        ],\n",
    "        'system': '2',\n",
    "    },\n",
    "    'NCEP_202210_2m_temperature_anomaly.nc')"
   ]
  },
  {
   "cell_type": "markdown",
   "id": "4e9b949c",
   "metadata": {},
   "source": [
    "### plot map¶"
   ]
  },
  {
   "cell_type": "code",
   "execution_count": null,
   "id": "11b70eaf",
   "metadata": {},
   "outputs": [],
   "source": [
    "import xarray as xr\n",
    "\n",
    "with xr.open_dataset('../example_data/SEAS5_202210_2m_temperature_anomaly.nc') as ds:\n",
    "    ds.isel(time=0)['t2a'].plot()"
   ]
  },
  {
   "cell_type": "markdown",
   "id": "83d052ed",
   "metadata": {},
   "source": [
    "### plot map with borders"
   ]
  },
  {
   "cell_type": "code",
   "execution_count": null,
   "id": "0df6ebad",
   "metadata": {},
   "outputs": [],
   "source": [
    "import cartopy.crs as ccrs\n",
    "import cartopy.features as cf\n",
    "import matplotlib.pyplot as plt\n",
    "\n",
    "fig, ax = plt.subplots(figsize=(20, 10), subplot_kw=dict(projection=ccrs.PlateCarree()))\n",
    "\n",
    "with xr.open_dataset('../example data/SEAS5_202210_2m_temperature_anomaly.nc') as ds:\n",
    "    ds.isel(time=0)['t2a'].plot(ax=ax)\n",
    "\n",
    "ax.coastlines()"
   ]
  },
  {
   "cell_type": "markdown",
   "id": "51d03cc7",
   "metadata": {},
   "source": [
    "### zoom in to Europe"
   ]
  },
  {
   "cell_type": "code",
   "execution_count": null,
   "id": "81530aec",
   "metadata": {},
   "outputs": [],
   "source": [
    "import cartopy.crs as ccrs\n",
    "import cartopy.feature as cf\n",
    "import matplotlib.pyplot as plt\n",
    "fig, ax = plt.subplots(figsize=(20, 10), subplot_kw=dict(projection=ccrs.PlateCarree()))\n",
    "\n",
    "with xr.open_dataset('SEAS5_202210_2m_temperature_anomaly.nc') as ds:\n",
    "    ds.isel(time=3)['t2a'].plot(vmax=2, vmin=-2, cmap='RdBu_r')\n",
    "\n",
    "ax.add_feature(cf.COASTLINE)\n",
    "ax.add_feature(cf.BORDERS)\n",
    "\n",
    "ax.set_xlim(-20,30)\n",
    "ax.set_ylim(30,70)"
   ]
  },
  {
   "cell_type": "markdown",
   "id": "b735af5b",
   "metadata": {},
   "source": [
    "### plot also for NCEP"
   ]
  },
  {
   "cell_type": "code",
   "execution_count": null,
   "id": "d71e4a61",
   "metadata": {},
   "outputs": [],
   "source": [
    "import cartopy.crs as ccrs\n",
    "import cartopy.feature as cf\n",
    "import matplotlib.pyplot as plt\n",
    "fig, ax = plt.subplots(figsize=(20, 10), subplot_kw=dict(projection=ccrs.PlateCarree()))\n",
    "\n",
    "with xr.open_dataset('NCEP_202210_2m_temperature_anomaly.nc') as ds:\n",
    "    ds.isel(time=3)['t2a'].plot(vmax=2, vmin=-2, cmap='RdBu_r')\n",
    "\n",
    "ax.add_feature(cf.COASTLINE)\n",
    "ax.add_feature(cf.BORDERS)\n",
    "\n",
    "ax.set_xlim(-20,30)\n",
    "ax.set_ylim(30,70)"
   ]
  },
  {
   "cell_type": "markdown",
   "id": "d7fb7cf3",
   "metadata": {},
   "source": [
    "### difference between NCEP and SEAS5"
   ]
  },
  {
   "cell_type": "code",
   "execution_count": null,
   "id": "ef118167",
   "metadata": {},
   "outputs": [],
   "source": [
    "ds_ncep=xr.open_dataset('NCEP_202210_2m_temperature_anomaly.nc') \n",
    "ds_seas5=xr.open_dataset('SEAS5_202210_2m_temperature_anomaly.nc')\n",
    "\n",
    "print(ds_seas5)\n",
    "print(ds_ncep)"
   ]
  },
  {
   "cell_type": "markdown",
   "id": "5d8db067",
   "metadata": {},
   "source": [
    "### regrid ncep to SEAS5 grid"
   ]
  },
  {
   "cell_type": "code",
   "execution_count": null,
   "id": "9077f881",
   "metadata": {
    "scrolled": false
   },
   "outputs": [],
   "source": [
    "regridded_ds_ncep = ds_ncep.interp(coords={'latitude': ds_seas5.latitude.data, 'longitude': ds_seas5.longitude.data})"
   ]
  },
  {
   "cell_type": "code",
   "execution_count": null,
   "id": "b4f670aa",
   "metadata": {},
   "outputs": [],
   "source": [
    "fig, ax = plt.subplots(figsize=(20, 10), subplot_kw=dict(projection=ccrs.PlateCarree()))\n",
    "\n",
    "regridded_ds_ncep.isel(time=3)['t2a'].plot(vmax=2, vmin=-2, cmap='RdBu_r')\n",
    "\n",
    "ax.add_feature(cf.COASTLINE)\n",
    "ax.add_feature(cf.BORDERS)\n",
    "\n",
    "ax.set_xlim(-20,30)\n",
    "ax.set_ylim(30,70)"
   ]
  },
  {
   "cell_type": "code",
   "execution_count": null,
   "id": "255b79db",
   "metadata": {},
   "outputs": [],
   "source": [
    "### "
   ]
  },
  {
   "cell_type": "code",
   "execution_count": null,
   "id": "a7152e44",
   "metadata": {},
   "outputs": [],
   "source": [
    "\n",
    "\n",
    "\n",
    "# Convert longitude from 0-360 to -180 to 180\n",
    "ds_seas5 = ds_seas5.roll(longitude=(ds_seas5.dims['longitude'] // 2), roll_coords=True)\n",
    "# Update the longitude values\n",
    "ds_seas5['longitude'] = ((ds_seas5.longitude + 180) % 360) - 180\n"
   ]
  },
  {
   "cell_type": "code",
   "execution_count": null,
   "id": "55354a57",
   "metadata": {},
   "outputs": [],
   "source": [
    "regridded_ds_ncep = ds_ncep.interp(coords={'latitude': ds_seas5.latitude.data, 'longitude': ds_seas5.longitude.data})"
   ]
  },
  {
   "cell_type": "code",
   "execution_count": null,
   "id": "98b7e42d",
   "metadata": {},
   "outputs": [],
   "source": [
    "fig, ax = plt.subplots(figsize=(20, 10), subplot_kw=dict(projection=ccrs.PlateCarree()))\n",
    "\n",
    "regridded_ds_ncep.isel(time=3)['t2a'].plot(vmax=2, vmin=-2, cmap='RdBu_r')\n",
    "\n",
    "ax.add_feature(cf.COASTLINE)\n",
    "ax.add_feature(cf.BORDERS)\n",
    "\n",
    "ax.set_xlim(-20,30)\n",
    "ax.set_ylim(30,70)"
   ]
  },
  {
   "cell_type": "code",
   "execution_count": null,
   "id": "3722f59b",
   "metadata": {},
   "outputs": [],
   "source": [
    "fig, ax = plt.subplots(figsize=(20, 10), subplot_kw=dict(projection=ccrs.PlateCarree()))\n",
    "\n",
    "(regridded_ds_ncep-ds_seas5).isel(time=0)['t2a'].plot(vmax=2, vmin=-2, cmap='RdBu_r')\n",
    "\n",
    "ax.add_feature(cf.COASTLINE)\n",
    "ax.add_feature(cf.BORDERS)\n",
    "\n",
    "ax.set_xlim(-20,30)\n",
    "ax.set_ylim(30,70)"
   ]
  },
  {
   "cell_type": "markdown",
   "id": "7ed06d58",
   "metadata": {},
   "source": [
    "### multi member forecast"
   ]
  },
  {
   "cell_type": "code",
   "execution_count": null,
   "id": "b5b52727",
   "metadata": {},
   "outputs": [],
   "source": [
    "with xr.open_dataset('SEAS5_202306_2m_temperature_anomaly_members.nc') as ds:\n",
    "    ds"
   ]
  },
  {
   "cell_type": "code",
   "execution_count": null,
   "id": "8e57a830",
   "metadata": {},
   "outputs": [],
   "source": [
    "import numpy as np\n",
    "fig, ax = plt.subplots(2,2,figsize=(20, 15), subplot_kw=dict(projection=ccrs.PlateCarree()))\n",
    "\n",
    "ax = ax.flatten()\n",
    "\n",
    "for i in range(4):\n",
    "    member= np.random.randint(0, 50)\n",
    "    ds['t2a'].isel(dict(time=1, number=member)).plot(ax=ax[i], vmin=-4, vmax=4, cmap='RdBu_r')\n",
    "    ax[i].add_feature(cf.COASTLINE)\n",
    "    ax[i].add_feature(cf.BORDERS)\n",
    "\n",
    "    ax[i].set_xlim(-20,30)\n",
    "    ax[i].set_ylim(30,70)\n",
    "    \n",
    "# regridded_ds_ncep.isel(time=3)['t2a'].plot(vmax=2, vmin=-2, cmap='RdBu_r')\n",
    "\n"
   ]
  },
  {
   "cell_type": "code",
   "execution_count": null,
   "id": "52d29ab8",
   "metadata": {},
   "outputs": [],
   "source": [
    "import numpy as np\n",
    "fig, ax = plt.subplots(figsize=(20, 15), subplot_kw=dict(projection=ccrs.PlateCarree()))\n",
    "\n",
    "ds['t2a'].isel(time=1).quantile(0.9,dim='number').plot(ax=ax)\n",
    "ax.add_feature(cf.COASTLINE)\n",
    "ax.add_feature(cf.BORDERS)\n",
    "\n",
    "ax.set_xlim(-20,30)\n",
    "ax.set_ylim(30,70)"
   ]
  },
  {
   "cell_type": "code",
   "execution_count": null,
   "id": "ab43e694",
   "metadata": {},
   "outputs": [],
   "source": [
    "# Select the data for the desired time step\n",
    "data = ds['t2a'].isel(time=1).mean(dim='number')\n",
    "\n",
    "# Create the contour line plot\n",
    "fig, ax = plt.subplots(figsize=(20, 15), subplot_kw=dict(projection=ccrs.PlateCarree()))\n",
    "\n",
    "ds['t2a'].isel(time=1).mean(dim='number').plot(ax=ax)\n",
    "\n",
    "contour_lines = ax.contour(data.longitude, data.latitude, data, levels=[0], colors='black')\n",
    "\n",
    "num_points = 10  # Increase this value for smoother contour lines\n",
    "\n",
    "# Interpolate the contour line to make it smoother\n",
    "path = contour_lines.collections[0].get_paths()[0]\n",
    "vertices = path.vertices\n",
    "interp_vertices = np.linspace(0, vertices.shape[0] - 1, num_points)\n",
    "interp_line = np.stack([np.interp(interp_vertices, np.arange(vertices.shape[0]), vertices[:, 0]),\n",
    "                        np.interp(interp_vertices, np.arange(vertices.shape[0]), vertices[:, 1])], axis=1)\n",
    "\n",
    "# Plot the interpolated contour line\n",
    "ax.plot(interp_line[:, 0], interp_line[:, 1], 'k-', linewidth=1)\n",
    "\n",
    "\n",
    "\n",
    "ax.add_feature(cf.COASTLINE, color='gray')\n",
    "ax.add_feature(cf.BORDERS, color='gray')\n",
    "\n",
    "ax.set_xlim(-20,30)\n",
    "ax.set_ylim(30,70)"
   ]
  },
  {
   "cell_type": "markdown",
   "id": "e260cba0",
   "metadata": {},
   "source": [
    "### time series of location"
   ]
  },
  {
   "cell_type": "code",
   "execution_count": null,
   "id": "fddb32c2",
   "metadata": {},
   "outputs": [],
   "source": [
    "#lat_loc=52\n",
    "#lon_loc=5\n",
    "lat_loc=-6\n",
    "lon_loc=260\n",
    "\n",
    "\n",
    "fig, ax = plt.subplots(figsize=(10,10))\n",
    "ds_interp = ds['t2a'].interp(latitude=lat_loc, longitude=lon_loc, method='linear')\n",
    "\n",
    "for m in ds_interp.number:\n",
    "    ds_interp.isel(number=m).plot(ax=ax, color='steelblue', linewidth=1, alpha=0.5)\n",
    "\n",
    "ds_interp.mean(dim='number').plot(ax=ax, color='red', linewidth=2)\n",
    "\n",
    "ds_interp.quantile(0.9,dim='number').plot(ax=ax, color='gray', linewidth=2)\n",
    "\n",
    "ds_interp.quantile(0.1,dim='number').plot(ax=ax, color='gray', linewidth=2)\n",
    "\n",
    "ax.fill_between(ds_interp.time,ds_interp.quantile(0.1,dim='number'), ds_interp.quantile(0.9,dim='number'), alpha=0.4)\n",
    "\n",
    "ax.plot(ds_interp.time,[0,0,0,0,0,0], '--', color='black')\n"
   ]
  },
  {
   "cell_type": "code",
   "execution_count": null,
   "id": "f7403067",
   "metadata": {},
   "outputs": [],
   "source": []
  },
  {
   "cell_type": "code",
   "execution_count": null,
   "id": "808a84f0",
   "metadata": {},
   "outputs": [],
   "source": []
  },
  {
   "cell_type": "code",
   "execution_count": null,
   "id": "1c43220f",
   "metadata": {},
   "outputs": [],
   "source": []
  },
  {
   "cell_type": "code",
   "execution_count": null,
   "id": "c938464d",
   "metadata": {},
   "outputs": [],
   "source": []
  },
  {
   "cell_type": "code",
   "execution_count": null,
   "id": "a2dccb1d",
   "metadata": {},
   "outputs": [],
   "source": []
  },
  {
   "cell_type": "code",
   "execution_count": null,
   "id": "6091c680",
   "metadata": {},
   "outputs": [],
   "source": []
  },
  {
   "cell_type": "code",
   "execution_count": null,
   "id": "fbfafc8e",
   "metadata": {},
   "outputs": [],
   "source": []
  },
  {
   "cell_type": "code",
   "execution_count": null,
   "id": "99b88098",
   "metadata": {},
   "outputs": [],
   "source": []
  },
  {
   "cell_type": "code",
   "execution_count": null,
   "id": "3671b81f",
   "metadata": {},
   "outputs": [],
   "source": []
  },
  {
   "cell_type": "code",
   "execution_count": null,
   "id": "8bef395e",
   "metadata": {},
   "outputs": [],
   "source": []
  },
  {
   "cell_type": "code",
   "execution_count": null,
   "id": "816cef24",
   "metadata": {},
   "outputs": [],
   "source": []
  },
  {
   "cell_type": "code",
   "execution_count": null,
   "id": "92894541",
   "metadata": {},
   "outputs": [],
   "source": [
    "import cdsapi\n",
    "\n",
    "c = cdsapi.Client()\n",
    "\n",
    "c.retrieve(\n",
    "    'seasonal-monthly-single-levels',\n",
    "    {\n",
    "        'format': 'grib',\n",
    "        'originating_centre': 'ecmwf',\n",
    "        'system': '51',\n",
    "        'variable': '2m_temperature',\n",
    "        'product_type': 'ensemble_mean',\n",
    "        'year': '2023',\n",
    "        'month': '03',\n",
    "        'leadtime_month': '1',\n",
    "    },\n",
    "    'download_ec.grib')"
   ]
  },
  {
   "cell_type": "code",
   "execution_count": null,
   "id": "815720c8",
   "metadata": {},
   "outputs": [],
   "source": [
    "import cartopy.crs as ccrs\n",
    "import matplotlib.pyplot as plt\n",
    "\n",
    "fig, ax = plt.subplots(figsize=(20, 10), subplot_kw=dict(projection=ccrs.PlateCarree()))\n",
    "\n",
    "(fc_ec-fc_ukmo).t2m.plot(ax=ax)\n",
    "ax.coastlines()"
   ]
  },
  {
   "cell_type": "markdown",
   "id": "0ff8f08c",
   "metadata": {},
   "source": [
    "#### read UKMO"
   ]
  },
  {
   "cell_type": "code",
   "execution_count": null,
   "id": "bf048c27",
   "metadata": {},
   "outputs": [],
   "source": [
    "import cdsapi\n",
    "\n",
    "c = cdsapi.Client()\n",
    "\n",
    "c.retrieve(\n",
    "    'seasonal-monthly-single-levels',\n",
    "    {\n",
    "        'format': 'grib',\n",
    "        'originating_centre': 'ukmo',\n",
    "        'system': '601',\n",
    "        'variable': '2m_temperature',\n",
    "        'product_type': 'ensemble_mean',\n",
    "        'year': '2023',\n",
    "        'month': '02',\n",
    "        'leadtime_month': '2',\n",
    "    },\n",
    "    'download_ukmo.grib')"
   ]
  },
  {
   "cell_type": "code",
   "execution_count": null,
   "id": "8b8769b1",
   "metadata": {},
   "outputs": [],
   "source": [
    "import cdsapi\n",
    "\n",
    "c = cdsapi.Client()\n",
    "\n",
    "c.retrieve(\n",
    "    'seasonal-monthly-single-levels',\n",
    "    {\n",
    "        'format': 'grib',\n",
    "        'originating_centre': 'ukmo',\n",
    "        'system': '601',\n",
    "        'variable': '2m_temperature',\n",
    "        'product_type': [\n",
    "            'ensemble_mean', 'hindcast_climate_mean',\n",
    "        ],\n",
    "        'year': '2023',\n",
    "        'month': '02',\n",
    "        'leadtime_month': '2',\n",
    "    },\n",
    "    'download_ukmo_clim.grib')"
   ]
  },
  {
   "cell_type": "code",
   "execution_count": null,
   "id": "da361492",
   "metadata": {},
   "outputs": [],
   "source": [
    "import xarray as xr"
   ]
  },
  {
   "cell_type": "code",
   "execution_count": null,
   "id": "af62cc30",
   "metadata": {
    "scrolled": false
   },
   "outputs": [],
   "source": []
  },
  {
   "cell_type": "code",
   "execution_count": null,
   "id": "ccb102fa",
   "metadata": {},
   "outputs": [],
   "source": [
    "fc_hc = xr.open_dataset('download_ukmo_clim.grib',engine =\"cfgrib\",filter_by_keys={'dataType': 'hcmean'})\n",
    "fc = xr.open_dataset('download_ukmo_clim.grib',engine =\"cfgrib\",filter_by_keys={'dataType': 'em'})"
   ]
  },
  {
   "cell_type": "code",
   "execution_count": null,
   "id": "17002a01",
   "metadata": {},
   "outputs": [],
   "source": [
    "fc - fc_hc"
   ]
  },
  {
   "cell_type": "code",
   "execution_count": null,
   "id": "93de1bf0",
   "metadata": {},
   "outputs": [],
   "source": [
    "import cartopy.crs as ccrs\n",
    "import matplotlib.pyplot as plt\n",
    "\n",
    "fig, ax = plt.subplots(figsize=(20, 10), subplot_kw=dict(projection=ccrs.PlateCarree()))\n",
    "\n",
    "(((fc-fc_hc)/fc_hc)*100.0)['t2m'].plot(ax=ax)\n",
    "\n",
    "ax.coastlines()"
   ]
  },
  {
   "cell_type": "code",
   "execution_count": null,
   "id": "9d1130a2",
   "metadata": {},
   "outputs": [],
   "source": [
    "fc['msnsrf'].plot()"
   ]
  },
  {
   "cell_type": "code",
   "execution_count": null,
   "id": "d2956cb8",
   "metadata": {},
   "outputs": [],
   "source": [
    "fc_ec = xr.open_dataset('download_ec.grib')\n",
    "fc_ukmo = xr.open_dataset('download_ukmo.grib')"
   ]
  },
  {
   "cell_type": "code",
   "execution_count": null,
   "id": "ffaa4d5d",
   "metadata": {},
   "outputs": [],
   "source": [
    "import cartopy.crs as ccrs\n",
    "import matplotlib.pyplot as plt\n",
    "\n",
    "fig, ax = plt.subplots(figsize=(20, 10), subplot_kw=dict(projection=ccrs.PlateCarree()))\n",
    "\n",
    "(fc_ec-fc_ukmo).t2m.plot(ax=ax)\n",
    "ax.coastlines()"
   ]
  },
  {
   "cell_type": "code",
   "execution_count": null,
   "id": "7c8362cd",
   "metadata": {},
   "outputs": [],
   "source": [
    "import cdsapi\n",
    "\n",
    "c = cdsapi.Client()\n",
    "\n",
    "c.retrieve(\n",
    "    'derived-near-surface-meteorological-variables',\n",
    "    {\n",
    "        'version': '2.1',\n",
    "        'format': 'zip',\n",
    "        'variable': 'surface_downwelling_shortwave_radiation',\n",
    "        'reference_dataset': 'cru',\n",
    "        'year': '2019',\n",
    "        'month': '07',\n",
    "    },\n",
    "    'download.zip')"
   ]
  },
  {
   "cell_type": "code",
   "execution_count": null,
   "id": "97c44ec9",
   "metadata": {},
   "outputs": [],
   "source": [
    "fc = xr.open_dataset('SWdown_WFDE5_CRU_201907_v2.1.nc')"
   ]
  },
  {
   "cell_type": "code",
   "execution_count": null,
   "id": "9f0c34da",
   "metadata": {},
   "outputs": [],
   "source": [
    "fc.isel(time=0)['SWdown'].plot()"
   ]
  },
  {
   "cell_type": "code",
   "execution_count": null,
   "id": "30900b8c",
   "metadata": {},
   "outputs": [],
   "source": [
    "import cdsapi\n",
    "\n",
    "c = cdsapi.Client()\n",
    "\n",
    "c.retrieve(\n",
    "    'insitu-observations-surface-marine',\n",
    "    {\n",
    "        'format': 'csv-obs.zip',\n",
    "        'year': '1851',\n",
    "        'month': '01',\n",
    "        'day': '01',\n",
    "        'data_quality': 'passed',\n",
    "        'variable': [\n",
    "            'air_temperature', 'wind_speed',\n",
    "        ],\n",
    "    },\n",
    "    'download.csv-obs.zip')"
   ]
  },
  {
   "cell_type": "code",
   "execution_count": null,
   "id": "ee2bf339",
   "metadata": {},
   "outputs": [],
   "source": [
    "import cdsapi\n",
    "\n",
    "c = cdsapi.Client()\n",
    "\n",
    "c.retrieve(\n",
    "    'sis-shipping-consumption-on-routes',\n",
    "    {\n",
    "        'format': 'zip',\n",
    "        'variable': [\n",
    "            'fuel_consumption_at_fixed_shaft_power', 'fuel_consumption_at_fixed_speed', 'shaft_power_at_fixed_speed',\n",
    "            'ship_speed_at_fixed_shaft_power', 'trip_duration_at_fixed_shaft_power',\n",
    "        ],\n",
    "        'product_type': 'historical',\n",
    "        'statistic': 'daily',\n",
    "        'departure_port': 'gibraltar',\n",
    "        'arrival_port': 'new_york',\n",
    "        'year': '2017',\n",
    "    },\n",
    "    'download.zip')"
   ]
  },
  {
   "cell_type": "code",
   "execution_count": null,
   "id": "2a229c94",
   "metadata": {},
   "outputs": [],
   "source": [
    "fc = xr.open_dataset(r'./download/shaft_power_fixed_speed_historical_daily_product_tanker_from_gibraltar_to_new_york_2017_v0.0.nc')"
   ]
  },
  {
   "cell_type": "code",
   "execution_count": null,
   "id": "2e7acbd9",
   "metadata": {},
   "outputs": [],
   "source": [
    "fc.isel(time=1).isel(speed=1)['shaft_power'].plot()"
   ]
  },
  {
   "cell_type": "code",
   "execution_count": null,
   "id": "6ff31d90",
   "metadata": {},
   "outputs": [],
   "source": [
    "fc.sel(lat=-7.01)"
   ]
  },
  {
   "cell_type": "code",
   "execution_count": null,
   "id": "87a06083",
   "metadata": {},
   "outputs": [],
   "source": [
    "import cdsapi\n",
    "\n",
    "c = cdsapi.Client()\n",
    "\n",
    "c.retrieve(\n",
    "    'seasonal-postprocessed-single-levels',\n",
    "    {\n",
    "        'format': 'grib',\n",
    "        'year': '2023',\n",
    "        'originating_centre': 'ecmwf',\n",
    "        'system': '51',\n",
    "        'product_type': 'monthly_mean',\n",
    "        'month': '03',\n",
    "        'leadtime_month': [\n",
    "            '1', '2', '3',\n",
    "            '4', '5', '6',\n",
    "        ],\n",
    "        'area': [\n",
    "            60, 0, 40,\n",
    "            20,\n",
    "        ],\n",
    "        'variable': [\n",
    "            '10m_wind_speed_anomaly', '2m_temperature_anomaly', 'surface_solar_radiation_anomalous_rate_of_accumulation',\n",
    "        ],\n",
    "    },\n",
    "    'download.grib')"
   ]
  },
  {
   "cell_type": "code",
   "execution_count": null,
   "id": "e6c15f6a",
   "metadata": {},
   "outputs": [],
   "source": [
    "import cdsapi\n",
    "\n",
    "c = cdsapi.Client()\n",
    "\n",
    "c.retrieve(\n",
    "    'seasonal-postprocessed-single-levels',\n",
    "    {\n",
    "        'format': 'grib',\n",
    "        'originating_centre': 'ukmo',\n",
    "        'system': '601',\n",
    "        'variable': '2m_temperature_anomaly',\n",
    "        'product_type': 'monthly_mean',\n",
    "        'year': '2023',\n",
    "        'month': '02',\n",
    "        'leadtime_month': [\n",
    "            '1', '2', '3',\n",
    "            '4', '5', '6',\n",
    "        ],\n",
    "        'area': [\n",
    "            60, 0, 40,\n",
    "            20,\n",
    "        ],\n",
    "    },\n",
    "    'download_uk.grib')"
   ]
  },
  {
   "cell_type": "code",
   "execution_count": null,
   "id": "dd861ce2",
   "metadata": {},
   "outputs": [],
   "source": [
    "fc = xr.open_dataset('download_uk.grib')"
   ]
  },
  {
   "cell_type": "code",
   "execution_count": null,
   "id": "e44b109f",
   "metadata": {},
   "outputs": [],
   "source": [
    "fc"
   ]
  },
  {
   "cell_type": "code",
   "execution_count": null,
   "id": "da932df2",
   "metadata": {},
   "outputs": [],
   "source": [
    "import matplotlib.pyplot as plt\n",
    "lat = xr.DataArray([51.], dims=\"z\")\n",
    "lon = xr.DataArray([4.], dims=\"z\")\n",
    "df = fc.interp(latitude=lat,longitude=lon)"
   ]
  },
  {
   "cell_type": "code",
   "execution_count": null,
   "id": "9e77a1d6",
   "metadata": {},
   "outputs": [],
   "source": [
    "fc['t2a'].isel(dict(number=0,)).plot()"
   ]
  },
  {
   "cell_type": "code",
   "execution_count": null,
   "id": "2a47e140",
   "metadata": {},
   "outputs": [],
   "source": [
    "import matplotlib.pyplot as plt\n",
    "lat = xr.DataArray([51], dims=\"z\")\n",
    "lon = xr.DataArray([4], dims=\"z\")\n",
    "df = fc.interp(latitude=lat,longitude=lon).to_dataframe().reset_index()#.pivot(columns=['number'],values=['t2a'])\n",
    "\n",
    "fig,ax = plt.subplots(figsize=(10,5))\n",
    "numbers = df.number.unique()\n",
    "\n",
    "for n in numbers:\n",
    "    ax.plot(df.loc[df.number==n]['t2a'].values)\n",
    "\n"
   ]
  },
  {
   "cell_type": "code",
   "execution_count": null,
   "id": "570baeb4",
   "metadata": {},
   "outputs": [],
   "source": [
    "df"
   ]
  },
  {
   "cell_type": "code",
   "execution_count": null,
   "id": "d6a474fa",
   "metadata": {},
   "outputs": [],
   "source": [
    "import xarray as xr\n",
    "\n",
    "# Maak een xarray-object met ontbrekende waarden\n",
    "ds = xr.Dataset({\n",
    "    'x': xr.DataArray([0, 1, 2, 3], dims='x'),\n",
    "    'y': xr.DataArray([0, 1, 2, 3], dims='y'),\n",
    "    'data': xr.DataArray([[1, 2, 3, 4], [5, 6, 7, float('nan')], [9, 10, float('nan'), 12], [13, 14, 15, 16]], dims=('y', 'x'))\n",
    "})\n",
    "\n",
    "# Interpoleer het xarray-object naar een nieuw rooster met ontbrekende waarden\n",
    "new_coords = {'x': [0.5, 1.5, 2.5], 'y': [0.5, 1.5, 2.5]}\n",
    "ds_interp = ds.fillna(ds.interp(new_coords))\n",
    "\n",
    "# Bekijk het resultaat\n",
    "print(ds_interp)"
   ]
  }
 ],
 "metadata": {
  "kernelspec": {
   "display_name": "energy39",
   "language": "python",
   "name": "energy39"
  },
  "language_info": {
   "codemirror_mode": {
    "name": "ipython",
    "version": 3
   },
   "file_extension": ".py",
   "mimetype": "text/x-python",
   "name": "python",
   "nbconvert_exporter": "python",
   "pygments_lexer": "ipython3",
   "version": "3.9.16"
  }
 },
 "nbformat": 4,
 "nbformat_minor": 5
}
