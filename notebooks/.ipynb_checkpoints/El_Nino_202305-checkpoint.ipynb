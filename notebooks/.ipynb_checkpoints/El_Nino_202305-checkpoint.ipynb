{
 "cells": [
  {
   "cell_type": "code",
   "execution_count": null,
   "id": "3d5b89ee",
   "metadata": {},
   "outputs": [],
   "source": [
    "import xarray as xr\n",
    "import matplotlib.pyplot as plt\n",
    "import cartopy.crs as ccrs\n",
    "import cartopy.feature as cfeature\n",
    "from matplotlib import gridspec\n",
    "import pandas as pd\n",
    "import numpy as np\n",
    "import requests\n",
    "from bs4 import BeautifulSoup\n",
    "import pandas as pd\n",
    "import numpy as np\n",
    "#from sklearn.linear_model import LinearRegression"
<<<<<<< HEAD
=======
   ]
  },
  {
   "cell_type": "markdown",
   "id": "e4373538",
   "metadata": {},
   "source": [
    "### some extra info"
   ]
  },
  {
   "cell_type": "code",
   "execution_count": 6,
   "id": "78c016e0",
   "metadata": {},
   "outputs": [],
   "source": [
    "import json"
>>>>>>> check-notebook-merge
   ]
  },
  {
   "cell_type": "markdown",
   "id": "4293a672",
   "metadata": {},
   "source": [
    "### reading ENSO data"
   ]
  },
  {
   "cell_type": "code",
   "execution_count": null,
   "id": "8abacc2f",
   "metadata": {},
   "outputs": [],
   "source": [
    "\n",
    "\n",
    "# make a request to the website\n",
    "response = requests.get('https://origin.cpc.ncep.noaa.gov/products/analysis_monitoring/ensostuff/ONI_v5.php')\n",
    "\n",
    "# get the HTML content from the response object\n",
    "html_content = response.content\n"
   ]
  },
  {
   "cell_type": "code",
   "execution_count": null,
   "id": "125a8520",
   "metadata": {},
   "outputs": [],
   "source": [
    "# create a BeautifulSoup object from the HTML content\n",
    "soup = BeautifulSoup(html_content, 'html.parser')\n",
    "\n",
    "# find all the links on the page\n",
    "td_elements = soup.find_all('td', {'width': '7%', 'style': 'text-align:center;'})\n",
    "\n",
    "year = 1950\n",
    "anomalies= dict()\n",
    "i=0\n",
    "for e in td_elements:\n",
    "    value = e.find('font').text\n",
    "\n",
    "    if value == str(year):\n",
    "        anomalies[year] = np.zeros(12)\n",
    "        year += 1\n",
    "        i=0\n",
    "    else:\n",
    "        anomalies[year-1][i]= value\n",
    "        i +=1\n",
    "   \n",
    "\n",
    "anomalies = pd.DataFrame(anomalies)\n",
    "\n",
    "anomalies= anomalies.T\n",
    "\n",
    "anomalies.columns = range(1,13)\n",
    "\n",
    "# anomalies = pd.melt(anomalies,value_vars=anomalies.columns,ignore_index=False)\n",
    "anomalies = anomalies.reset_index()\n",
    "anomalies = anomalies.iloc[:-1]\n",
    "anomalies = anomalies.rename(columns={'index':'year'})\n",
    "\n",
    "# anomalies.columns = ['year','month','anomaly']\n",
    "\n",
    "# anomalies = anomalies.sort_values(by= ['year','month']).reset_index()"
   ]
  },
  {
   "cell_type": "markdown",
   "id": "0f3637b5",
   "metadata": {},
   "source": [
    "### something we added"
   ]
  },
  {
   "cell_type": "code",
   "execution_count": 7,
   "id": "0075c461",
   "metadata": {},
   "outputs": [],
   "source": [
    "test_df = pd.DataFrame()\n"
   ]
  },
  {
   "cell_type": "markdown",
   "id": "a5848d5b",
   "metadata": {},
   "source": [
    "### making Nino index plot"
   ]
  },
  {
   "cell_type": "code",
   "execution_count": null,
   "id": "e50ce242",
   "metadata": {},
   "outputs": [],
   "source": [
    "an = pd.melt(anomalies, id_vars=['year'], value_vars=range(1,13)).sort_values(by=['year','variable'])\n",
    "an.columns = ['year','month','anomaly']\n",
    "an['day'] = 1\n",
    "\n",
    "an= an.reset_index()\n",
    "\n",
    "labels = []\n",
    "from datetime import datetime as dt\n",
    "an['dtg'] = pd.to_datetime(an[['year','month','day']])\n",
    "\n",
    "\n",
    "fig, ax = plt.subplots(figsize=(20,4))\n",
    "\n",
    "x = an.dtg\n",
    "\n",
    "y = an.anomaly\n",
    "ax.plot(x,y)\n",
    "\n",
    "ax.plot(x,np.zeros_like(y), color='black')\n",
    "\n",
    "ax.fill_between(x,y, 0.5, where=y >= 0.5, interpolate=True, color='red', alpha=0.5)\n",
    "ax.fill_between(x,y, 1.0, where=y >= 1.0, interpolate=True, color='darkred', alpha=1.0)\n",
    "ax.fill_between(x,y, -0.5, where=y <= -0.5, interpolate=True, color='steelblue', alpha=0.5)\n",
    "ax.fill_between(x,y, -1.0, where=y <= -1.0, interpolate=True, color='darkblue', alpha=0.5)\n",
    "\n",
    "plt.yticks(fontsize=15)\n",
    "plt.xticks(fontsize=15)\n",
    "plt.ylabel('oC',fontsize=15)\n",
    "\n",
    "plt.title(\"Oceanic Niño Index\", fontsize=20)\n",
    "\n",
    "plt.show()\n"
   ]
  },
  {
   "cell_type": "markdown",
   "id": "c1346db4",
   "metadata": {},
   "source": [
    "### ERA 5 monthly mean anomalies correlation with Nino index"
   ]
  },
  {
   "cell_type": "markdown",
   "id": "c6a81932",
   "metadata": {},
   "source": [
    "### calculating R2 in a vectorized way"
   ]
  },
  {
   "cell_type": "code",
   "execution_count": null,
   "id": "a64d9779",
   "metadata": {},
   "outputs": [],
   "source": [
    "def get_r(x,y):\n",
    "    xm = np.mean(x,axis=0)\n",
    "    ym= y.mean()\n",
    "\n",
    "    xdif = x-xm\n",
    "    ydif = y-ym\n",
    "\n",
    "    ydif = np.expand_dims(ydif, axis=(1, 2))\n",
    "\n",
    "    a = (xdif*ydif).sum(axis=0)\n",
    "    b = np.power(xdif,2).sum(axis=0)*np.power(ydif,2).sum() \n",
    "\n",
    "    r = a/np.sqrt(b)\n",
    "    return r\n"
   ]
  },
  {
   "cell_type": "markdown",
   "id": "41ed0acc",
   "metadata": {},
   "source": [
    "### making multiple plots for presentations"
   ]
  },
  {
   "cell_type": "code",
   "execution_count": null,
   "id": "354b340b",
   "metadata": {
    "scrolled": true
   },
   "outputs": [],
   "source": [
    "import xarray as xr\n",
    "import matplotlib.pyplot as plt\n",
    "import cartopy.crs as ccrs\n",
    "import cartopy.feature as cfeature\n",
    "\n",
    "\n",
    "\n",
    "#fig = plt.figure(figsize=(15, 7))\n",
    "#axes = plt.axes((12,3),projection=ccrs.PlateCarree())\n",
    "# Create a grid of plots\n",
    "\n",
    "\n",
    "def make_ax(data,ax,mask, anomalies):\n",
    "\n",
    "    r = get_r(data.values[mask],anomalies.values[mask])\n",
    "    coords={'latitude': data.coords['latitude'],'longitude': data.coords['longitude']}\n",
    "    da = xr.DataArray(r, dims=('latitude','longitude'), coords=coords)\n",
    "    im = da.where((da>0.2) | (da<-0.2)).plot(ax=ax, add_colorbar=False)\n",
    "    ax.add_feature(cfeature.LAND,facecolor='white')\n",
    "    ax.add_feature(cfeature.OCEAN, facecolor='white')\n",
    "    ax.add_feature(cfeature.COASTLINE)\n",
    "    ax.add_feature(cfeature.BORDERS,)\n",
    "    \n",
    "    return im\n",
    "    \n",
    "#fig, axes = plt.subplots(ncols=3,nrows=3, subplot_kw={'projection': ccrs.PlateCarree()}, figsize=(30,20))\n",
    "fig = plt.figure(figsize=(20, 12))\n",
    "gs = gridspec.GridSpec(3, 4, figure=fig,width_ratios=[20,20,20,1])\n",
    "\n",
    "for idx,m in enumerate([9,10,11]):\n",
    "    mask = anomalies[m].values >0\n",
    "    print(m)\n",
    "    with xr.open_dataset('monthly.nc') as ds:\n",
    "        ds_month = ds.sel(time=ds['time.month'] == m)['t2m']\n",
    "        norm = ds_month-ds_month.mean(dim='time')\n",
    "        p= norm.polyfit(dim='time', deg=1)\n",
    "        fit = xr.polyval(norm['time'], p.polyfit_coefficients)\n",
    "        norm_corr= norm-fit\n",
    "        #ds_month = ds.sel(time=ds['time.month'] == m)['t2m']\n",
    "        ax = fig.add_subplot(gs[idx,0], projection= ccrs.PlateCarree())\n",
    "        make_ax(norm_corr,ax,mask,anomalies[m])\n",
    "        \n",
    "        ds_month = ds.sel(time=ds['time.month'] == m)[['u10','v10']]\n",
    "        ds_month = np.sqrt(np.power(ds_month['u10'],2) + np.power(ds_month['v10'],2))\n",
    "        ax = fig.add_subplot(gs[idx,1], projection= ccrs.PlateCarree())\n",
    "        im = make_ax(ds_month,ax,mask,anomalies[m])\n",
    "        \n",
    "\n",
    "    with xr.open_dataset('monthly_precip.nc') as ds:\n",
    "        ds_month = ds.sel(time=ds['time.month'] == m)['tp']\n",
    "        ax = fig.add_subplot(gs[idx,2], projection= ccrs.PlateCarree())\n",
    "        im = make_ax(ds_month,ax,mask,anomalies[m])\n",
    "\n",
    " \n",
    "\n",
    "#Create a colorbar\n",
    "cax = fig.add_subplot(gs[:, -1])\n",
    "fig.subplots_adjust(wspace=0.05, hspace=0)\n",
    "plt.colorbar(im, cax=cax, shrink=0.25)\n",
    "\n",
    "plt.show()\n",
    "\n",
    "\n",
    "\n",
    "    "
   ]
  },
  {
   "cell_type": "code",
   "execution_count": null,
   "id": "0eb74706",
   "metadata": {},
   "outputs": [],
   "source": [
    "month=1\n",
    "with xr.open_dataset('monthly.nc') as ds:\n",
    "    ds_jan = ds.sel(time=ds['time.month'] == month)['t2m']\n",
    "\n",
    "norm = ds_jan-ds_jan.mean(dim='time')\n",
    "p= norm.polyfit(dim='time', deg=1)\n",
    "fit = xr.polyval(norm['time'], p.polyfit_coefficients)"
   ]
  },
  {
   "cell_type": "code",
   "execution_count": null,
   "id": "c285d4c6",
   "metadata": {},
   "outputs": [],
   "source": [
    "fit.sel(latitude=45, longitude=245).plot()"
   ]
  },
  {
   "cell_type": "code",
   "execution_count": null,
   "id": "d22e193a",
   "metadata": {},
   "outputs": [],
   "source": []
  },
  {
   "cell_type": "code",
   "execution_count": null,
   "id": "7798efa5",
   "metadata": {},
   "outputs": [],
   "source": [
    "fig,ax = plt.subplots()\n",
    "norm.sel(latitude=64, longitude=15 ).plot(ax=ax)\n",
    "fit.sel(latitude=64,longitude=15).plot(ax=ax)\n",
    "(norm-fit).sel(latitude=64,longitude=15).plot(ax=ax)"
   ]
  },
  {
   "cell_type": "markdown",
   "id": "58f903a3",
   "metadata": {},
   "source": [
    "### nao index analysis"
   ]
  },
  {
   "cell_type": "code",
   "execution_count": null,
   "id": "8d13f2f6",
   "metadata": {},
   "outputs": [],
   "source": [
    "nao_noaa = pd.read_csv(\"https://www.cpc.ncep.noaa.gov/products/precip/CWlink/pna/norm.nao.monthly.b5001.current.ascii.table\"\n",
    "                       ,sep='  ',skiprows=[0], header=None)\n",
    "\n",
    "\n",
    "a = pd.melt(nao_noaa, id_vars=[0], value_vars=range(1,13)).sort_values(by=[0,'variable'])\n",
    "\n",
    "a.columns = ['year','month','anomaly']\n",
    "a['day'] = 1\n",
    "\n",
    "a= a.reset_index()\n",
    "\n",
    "labels = []\n",
    "from datetime import datetime as dt\n",
    "a['dtg'] = pd.to_datetime(a[['year','month','day']])\n",
    "\n",
    "a = a.loc[a.year<2023]\n",
    "\n",
    "fig, ax = plt.subplots(figsize=(20,4))\n",
    "\n",
    "x = a.dtg\n",
    "y = a.anomaly \n",
    "#ax.plot(x,y)\n",
    "\n",
    "ax.plot(x,np.zeros_like(y), color='black')\n",
    "\n",
    "above_threshold = y >= threshold\n",
    "\n",
    "positive_y = np.where(above_threshold, y, 0)\n",
    "\n",
    "# Create a new array that is the same as y but with negative values below the threshold\n",
    "negative_y = np.where(~above_threshold, y, 0)\n",
    "\n",
    "# Plot the positive part of the line in red\n",
    "#ax.plot(x, positive_y, color='red', alpha=0.5)\n",
    "\n",
    "# Plot the negative part of the line in blue\n",
    "#ax.plot(x, negative_y, color='steelblue', alpha=0.5)\n",
    "\n",
    "ax.fill_between(x,y, 0, where=y >= 0, interpolate=True, color='red', alpha=0.8)\n",
    "ax.fill_between(x,y, 0, where=y <= 0, interpolate=True, color='steelblue', alpha=0.8)\n",
    "#ax.fill_between(x,y, -0.5, where=y <= -0.5, interpolate=True, color='steelblue', alpha=0.5)\n",
    "#ax.fill_between(x,y, -1.0, where=y <= -1.0, interpolate=True, color='darkblue', alpha=0.5)\n",
    "\n",
    "plt.yticks(fontsize=15)\n",
    "plt.xticks(fontsize=15)\n",
    "plt.ylabel('oC',fontsize=15)\n",
    "\n",
    "plt.title(\"North Atlantic Oscillation\", fontsize=20)\n",
    "\n",
    "plt.show()"
   ]
  },
  {
   "cell_type": "code",
   "execution_count": null,
   "id": "df21249a",
   "metadata": {},
   "outputs": [],
   "source": [
    "nao_dates"
   ]
  },
  {
   "cell_type": "code",
   "execution_count": null,
   "id": "1d206b16",
   "metadata": {},
   "outputs": [],
   "source": [
    "nao_noaa = pd.read_csv(\"https://www.cpc.ncep.noaa.gov/products/precip/CWlink/pna/norm.nao.monthly.b5001.current.ascii.table\"\n",
    "                       ,sep='  ',skiprows=[0], header=None)\n",
    "\n",
    "el_nino_dates = an.loc[a.month==12].sort_values(by='anomaly', ascending=False).head(10)\n",
    "\n",
    "\n",
    "\n",
    "a = pd.melt(nao_noaa, id_vars=[0], value_vars=range(1,13)).sort_values(by=[0,'variable'])\n",
    "\n",
    "a.columns = ['year','month','anomaly']\n",
    "a['day'] = 1\n",
    "\n",
    "a= a.reset_index()\n",
    "\n",
    "\n",
    "\n",
    "labels = []\n",
    "from datetime import datetime as dt\n",
    "a['dtg'] = pd.to_datetime(a[['year','month','day']])\n",
    "\n",
    "\n",
    "\n",
    "a = a.loc[a.year<2023]\n",
    "\n",
    "fig, ax = plt.subplots(figsize=(20,4))\n",
    "\n",
    "x = a.dtg\n",
    "y = a.anomaly \n",
    "#ax.plot(x,y)\n",
    "\n",
    "ax.plot(x,np.zeros_like(y), color='black')\n",
    "\n",
    "above_threshold = y >= threshold\n",
    "\n",
    "positive_y = np.where(above_threshold, y, 0)\n",
    "\n",
    "# Create a new array that is the same as y but with negative values below the threshold\n",
    "negative_y = np.where(~above_threshold, y, 0)\n",
    "\n",
    "# Plot the positive part of the line in red\n",
    "#ax.plot(x, positive_y, color='red', alpha=0.5)\n",
    "\n",
    "# Plot the negative part of the line in blue\n",
    "#ax.plot(x, negative_y, color='steelblue', alpha=0.5)\n",
    "\n",
    "ax.fill_between(x,y, 0, where=y >= 0, interpolate=True, color='red', alpha=0.8)\n",
    "ax.fill_between(x,y, 0, where=y <= 0, interpolate=True, color='steelblue', alpha=0.8)\n",
    "#ax.fill_between(x,y, -0.5, where=y <= -0.5, interpolate=True, color='steelblue', alpha=0.5)\n",
    "#ax.fill_between(x,y, -1.0, where=y <= -1.0, interpolate=True, color='darkblue', alpha=0.5)\n",
    "\n",
    "\n",
    "\n",
    "nao_dates = a.loc[a['dtg'].isin(el_nino_dates.dtg)]\n",
    "\n",
    "ax.scatter(x=nao_dates['dtg'],y=nao_dates['anomaly'],marker='o', color='black', s=200, label='El Nino')\n",
    "\n",
    "plt.legend(fontsize=15)\n",
    "\n",
    "plt.yticks(fontsize=15)\n",
    "plt.xticks(fontsize=15)\n",
    "plt.ylabel('oC',fontsize=15)\n",
    "\n",
    "plt.title(\"North Atlantic Oscillation\", fontsize=20)\n",
    "\n",
    "plt.show()"
   ]
  },
  {
   "cell_type": "code",
   "execution_count": null,
   "id": "57073f4e",
   "metadata": {},
   "outputs": [],
   "source": [
    "nao_noaa = pd.read_csv(\"https://www.cpc.ncep.noaa.gov/products/precip/CWlink/pna/norm.nao.monthly.b5001.current.ascii.table\"\n",
    "                       ,sep='  ',skiprows=[0], header=None)\n",
    "\n",
    "la_nina_dates = an.loc[a.month==12].sort_values(by='anomaly', ascending=True).head(10)\n",
    "\n",
    "\n",
    "\n",
    "a = pd.melt(nao_noaa, id_vars=[0], value_vars=range(1,13)).sort_values(by=[0,'variable'])\n",
    "\n",
    "a.columns = ['year','month','anomaly']\n",
    "a['day'] = 1\n",
    "\n",
    "a= a.reset_index()\n",
    "\n",
    "\n",
    "\n",
    "labels = []\n",
    "from datetime import datetime as dt\n",
    "a['dtg'] = pd.to_datetime(a[['year','month','day']])\n",
    "\n",
    "\n",
    "\n",
    "a = a.loc[a.year<2023]\n",
    "\n",
    "fig, ax = plt.subplots(figsize=(20,4))\n",
    "\n",
    "x = a.dtg\n",
    "y = a.anomaly \n",
    "#ax.plot(x,y)\n",
    "\n",
    "ax.plot(x,np.zeros_like(y), color='black')\n",
    "\n",
    "above_threshold = y >= threshold\n",
    "\n",
    "positive_y = np.where(above_threshold, y, 0)\n",
    "\n",
    "# Create a new array that is the same as y but with negative values below the threshold\n",
    "negative_y = np.where(~above_threshold, y, 0)\n",
    "\n",
    "# Plot the positive part of the line in red\n",
    "#ax.plot(x, positive_y, color='red', alpha=0.5)\n",
    "\n",
    "# Plot the negative part of the line in blue\n",
    "#ax.plot(x, negative_y, color='steelblue', alpha=0.5)\n",
    "\n",
    "ax.fill_between(x,y, 0, where=y >= 0, interpolate=True, color='red', alpha=0.8)\n",
    "ax.fill_between(x,y, 0, where=y <= 0, interpolate=True, color='steelblue', alpha=0.8)\n",
    "#ax.fill_between(x,y, -0.5, where=y <= -0.5, interpolate=True, color='steelblue', alpha=0.5)\n",
    "#ax.fill_between(x,y, -1.0, where=y <= -1.0, interpolate=True, color='darkblue', alpha=0.5)\n",
    "\n",
    "la_nina_dates = an.loc[a.month==10].sort_values(by='anomaly', ascending=True).head(10)\n",
    "\n",
    "nao_dates = a.loc[a['dtg'].isin(la_nina_dates.dtg)]\n",
    "\n",
    "ax.scatter(x=nao_dates['dtg'],y=nao_dates['anomaly'],marker='o', color='black', s=200, label='La Nina')\n",
    "\n",
    "plt.legend(fontsize=15)\n",
    "\n",
    "plt.yticks(fontsize=15)\n",
    "plt.xticks(fontsize=15)\n",
    "plt.ylabel('oC',fontsize=15)\n",
    "\n",
    "plt.title(\"North Atlantic Oscillation\", fontsize=20)\n",
    "\n",
    "plt.show()"
   ]
  },
  {
   "cell_type": "markdown",
   "id": "f26571ea",
   "metadata": {},
   "source": [
    "### correlation with ERA5"
   ]
  },
  {
   "cell_type": "code",
   "execution_count": null,
   "id": "109eb75a",
   "metadata": {},
   "outputs": [],
   "source": [
    "import xarray as xr\n",
    "import matplotlib.pyplot as plt\n",
    "import cartopy.crs as ccrs\n",
    "import cartopy.feature as cfeature\n",
    "from matplotlib import gridspec\n",
    "import pandas as pd\n",
    "import numpy as np\n",
    "\n",
    "\n",
    "\n",
    "#fig = plt.figure(figsize=(15, 7))\n",
    "#axes = plt.axes((12,3),projection=ccrs.PlateCarree())\n",
    "# Create a grid of plots\n",
    "\n",
    "\n",
    "def make_ax(data,ax,mask, anomalies):\n",
    "    \n",
    "    \n",
    "    \n",
    "    r = get_r(data.values[mask],anomalies.values[mask])\n",
    "    coords={'latitude': data.coords['latitude'],'longitude': data.coords['longitude']}\n",
    "    da = xr.DataArray(r, dims=('latitude','longitude'), coords=coords)\n",
    "    im = da.where((da>0.5) | (da<-0.5)).plot(ax=ax, add_colorbar=False)\n",
    "    ax.add_feature(cfeature.LAND,facecolor='white')\n",
    "    ax.add_feature(cfeature.OCEAN, facecolor='white')\n",
    "    ax.add_feature(cfeature.COASTLINE)\n",
    "    ax.add_feature(cfeature.BORDERS)\n",
    "    \n",
    "    ax.set_xlim(-40,30)\n",
    "    ax.set_ylim(35,75)\n",
    "        \n",
    "    return im\n",
    "\n",
    "#fig, axes = plt.subplots(ncols=3,nrows=3, subplot_kw={'projection': ccrs.PlateCarree()}, figsize=(30,20))\n",
    "fig = plt.figure(figsize=(20, 12))\n",
    "gs = gridspec.GridSpec(3, 4, figure=fig,width_ratios=[20,20,20,1])\n",
    "\n",
    "nao_noaa = pd.read_csv(\"https://www.cpc.ncep.noaa.gov/products/precip/CWlink/pna/norm.nao.monthly.b5001.current.ascii.table\"\n",
    "                       ,sep='  ',skiprows=[0], header=None)\n",
    "\n",
    "nao_noaa = nao_noaa.rename(columns={0:'year'})\n",
    "\n",
    "nao_noaa = nao_noaa.loc[nao_noaa['year'] <2023]\n",
    "\n",
    "\n",
    "#nao = pd.melt(nao_noaa, id_vars=[0], value_vars=range(1,13)).sort_values(by=[0,'variable'])\n",
    "\n",
    "\n",
    "for idx,m in enumerate([12,1,2]):\n",
    "    mask = nao_noaa[m].values >-99\n",
    "    print(m)\n",
    "    with xr.open_dataset('monthly.nc') as ds:\n",
    "        ds_month = ds.sel(time=ds['time.month'] == m)['t2m']\n",
    "        norm = ds_month-ds_month.mean(dim='time')\n",
    "        p= norm.polyfit(dim='time', deg=1)\n",
    "        fit = xr.polyval(norm['time'], p.polyfit_coefficients)\n",
    "        norm_corr= norm-fit\n",
    "        #ds_month = ds.sel(time=ds['time.month'] == m)['t2m']        \n",
    "        ax = fig.add_subplot(gs[idx,0], projection= ccrs.PlateCarree())\n",
    "        make_ax(norm_corr,ax,mask,nao_noaa[m])\n",
    "        ds_month = ds.sel(time=ds['time.month'] == m)[['u10','v10']]\n",
    "        ds_month = np.sqrt(np.power(ds_month['u10'],2) + np.power(ds_month['v10'],2))\n",
    "        ax = fig.add_subplot(gs[idx,1], projection= ccrs.PlateCarree())\n",
    "        im = make_ax(ds_month,ax,mask,nao_noaa[m])\n",
    "        \n",
    "\n",
    "    with xr.open_dataset('monthly_precip.nc') as ds:\n",
    "        ds_month = ds.sel(time=ds['time.month'] == m)['tp']\n",
    "        ax = fig.add_subplot(gs[idx,2], projection= ccrs.PlateCarree())\n",
    "        im = make_ax(ds_month,ax,mask,nao_noaa[m])\n",
    "\n",
    "cax = fig.add_subplot(gs[:, -1])\n",
    "fig.subplots_adjust(wspace=0.05, hspace=0)\n",
    "plt.colorbar(im, cax=cax, shrink=0.25)\n",
    "\n",
    "plt.show()"
   ]
  },
  {
   "cell_type": "code",
   "execution_count": null,
   "id": "d62e05d7",
   "metadata": {},
   "outputs": [],
   "source": [
    "import xarray as xr\n",
    "import matplotlib.pyplot as plt\n",
    "import cartopy.crs as ccrs\n",
    "import cartopy.feature as cfeature\n",
    "from matplotlib import gridspec\n",
    "import pandas as pd\n",
    "import numpy as np\n",
    "\n",
    "\n",
    "\n",
    "#fig = plt.figure(figsize=(15, 7))\n",
    "#axes = plt.axes((12,3),projection=ccrs.PlateCarree())\n",
    "# Create a grid of plots\n",
    "\n",
    "\n",
    "def make_ax(data,ax,mask, anomalies):\n",
    "    \n",
    "    \n",
    "    \n",
    "    r = get_r(data.values[mask],anomalies.values[mask])\n",
    "    coords={'latitude': data.coords['latitude'],'longitude': data.coords['longitude']}\n",
    "    da = xr.DataArray(r, dims=('latitude','longitude'), coords=coords)\n",
    "    im = da.where((da>0.2) | (da<-0.2)).plot(ax=ax, add_colorbar=False)\n",
    "    ax.add_feature(cfeature.LAND,facecolor='white')\n",
    "    ax.add_feature(cfeature.OCEAN, facecolor='white')\n",
    "    ax.add_feature(cfeature.COASTLINE)\n",
    "    ax.add_feature(cfeature.BORDERS)\n",
    "    \n",
    "    ax.set_xlim(-40,30)\n",
    "    ax.set_ylim(35,75)\n",
    "        \n",
    "    return im\n",
    "\n",
    "#fig, axes = plt.subplots(ncols=3,nrows=3, subplot_kw={'projection': ccrs.PlateCarree()}, figsize=(30,20))\n",
    "fig = plt.figure(figsize=(20, 12))\n",
    "gs = gridspec.GridSpec(3, 4, figure=fig,width_ratios=[20,20,20,1])\n",
    "\n",
    "nao_noaa = pd.read_csv(\"https://www.cpc.ncep.noaa.gov/products/precip/CWlink/pna/norm.nao.monthly.b5001.current.ascii.table\"\n",
    "                       ,sep='  ',skiprows=[0], header=None)\n",
    "\n",
    "nao_noaa = nao_noaa.rename(columns={0:'year'})\n",
    "\n",
    "nao_noaa = nao_noaa.loc[nao_noaa['year'] <2023]\n",
    "\n",
    "\n",
    "#nao = pd.melt(nao_noaa, id_vars=[0], value_vars=range(1,13)).sort_values(by=[0,'variable'])\n",
    "\n",
    "\n",
    "for idx,m in enumerate([3]):\n",
    "    mask = nao_noaa[m].values >-99\n",
    "    print(m)\n",
    "    with xr.open_dataset('/Users/jellewisse/python/jupyter/monthly.nc') as ds:\n",
    "\n",
    "        ds_month = ds.sel(time=ds['time.month'] == m)['ssr']        \n",
    "        ax = fig.add_subplot(gs[idx,0], projection= ccrs.PlateCarree())\n",
    "        make_ax(ds_month,ax,mask,nao_noaa[m])\n",
    "        im = make_ax(ds_month,ax,mask,nao_noaa[m])\n",
    "        \n",
    "\n",
    "cax = fig.add_subplot(gs[:, -1])\n",
    "fig.subplots_adjust(wspace=0.05, hspace=0)\n",
    "plt.colorbar(im, cax=cax, shrink=0.25)\n",
    "\n",
    "plt.show()"
   ]
  },
  {
   "cell_type": "markdown",
   "id": "bff33258",
   "metadata": {},
   "source": [
    "### etc."
   ]
  },
  {
   "cell_type": "code",
   "execution_count": null,
   "id": "6ba4c1b6",
   "metadata": {},
   "outputs": [],
   "source": [
    "with xr.open_dataset('monthly.nc') as ds:\n",
    "    msl_iceland = ds.sel(latitude=65,longitude=342)['msl']\n",
    "    msl_gibraltar = ds.sel(latitude=36,longitude=353)['msl']\n",
    "    nao = msl_gibraltar-msl_iceland\n",
    "    nao = nao.to_dataframe()\n",
    "    nao = nao.reset_index()"
   ]
  },
  {
   "cell_type": "code",
   "execution_count": null,
   "id": "050d82bf",
   "metadata": {},
   "outputs": [],
   "source": [
    "nao['month'] = nao['time'].dt.month\n",
    "nao['YYYY'] = nao['time'].dt.year\n",
    "nao=nao.pivot(index='YYYY', columns='month', values='msl')\n",
    "\n",
    "nao = nao.reset_index()\n",
    "nao.columns = [c for c in nao.columns]\n",
    "nao = nao.rename(columns = {1:'JAN',2:'FEB',3:'MAR',4:'APR',5:'MAY',\n",
    "                        6:'JUNE',7:'JULY',8:'AUG',9:'SEP',10:'OCT',11:'NOV',12:'DEC'})"
   ]
  },
  {
   "cell_type": "code",
   "execution_count": null,
   "id": "c8d10272",
   "metadata": {},
   "outputs": [],
   "source": [
    "compare = pd.merge(anomalies,nao, left_on='year', right_on='YYYY', how='inner')"
   ]
  },
  {
   "cell_type": "code",
   "execution_count": null,
   "id": "c955baa9",
   "metadata": {},
   "outputs": [],
   "source": [
    "anomalies[anomalies>0] = np.nan"
   ]
  },
  {
   "cell_type": "code",
   "execution_count": null,
   "id": "3f95d294",
   "metadata": {},
   "outputs": [],
   "source": [
    "anomalies"
   ]
  },
  {
   "cell_type": "code",
   "execution_count": null,
   "id": "da706b34",
   "metadata": {},
   "outputs": [],
   "source": [
    "corr = compare[[c for c in compare.columns if c not in ['YYYY','STN','year','YEAR']]].corr()"
   ]
  },
  {
   "cell_type": "code",
   "execution_count": null,
   "id": "8fcc8a45",
   "metadata": {},
   "outputs": [],
   "source": []
  },
  {
   "cell_type": "code",
   "execution_count": null,
   "id": "0660b0d0",
   "metadata": {},
   "outputs": [],
   "source": [
    "compare[[c for c in compare.columns if c not in ['YYYY','STN','year','YEAR']]]"
   ]
  },
  {
   "cell_type": "code",
   "execution_count": null,
   "id": "fb1d22bf",
   "metadata": {},
   "outputs": [],
   "source": [
    "corr = corr[[c for c in range(1,13)]]\n",
    "corr = corr.iloc[range(12,24)]"
   ]
  },
  {
   "cell_type": "code",
   "execution_count": null,
   "id": "e65dbcd8",
   "metadata": {},
   "outputs": [],
   "source": [
    "compare.plot.scatter(x=12,y='AUG')"
   ]
  },
  {
   "cell_type": "code",
   "execution_count": null,
   "id": "d0d7bc3c",
   "metadata": {},
   "outputs": [],
   "source": [
    "compare.plot.scatter(x='MAY',y='NOV')"
   ]
  },
  {
   "cell_type": "code",
   "execution_count": null,
   "id": "a71db925",
   "metadata": {},
   "outputs": [],
   "source": [
    "corr.style.background_gradient(cmap='coolwarm', vmin=-0.5, vmax=0.5).set_precision(2)"
   ]
  },
  {
   "cell_type": "code",
   "execution_count": null,
   "id": "f19a140f",
   "metadata": {},
   "outputs": [],
   "source": [
    "corr = corr[[c for c in range(1,13)]]\n",
    "corr = corr.iloc[range(12,24)]\n",
    "corr.style.background_gradient(cmap='coolwarm', vmin=-0.5, vmax=0.5).set_precision(2)"
   ]
  },
  {
   "cell_type": "code",
   "execution_count": null,
   "id": "ef96d508",
   "metadata": {},
   "outputs": [],
   "source": [
    "corr = corr[[c for c in range(1,13)]]\n",
    "corr = corr.iloc[range(12,24)]\n",
    "corr.style.background_gradient(cmap='coolwarm', vmin=-0.5, vmax=0.5).set_precision(2)"
   ]
  },
  {
   "cell_type": "code",
   "execution_count": null,
   "id": "bf306de0",
   "metadata": {},
   "outputs": [],
   "source": [
    "for idx,time in enumerate(norm_corr.time):\n",
    "    print(idx,time)"
   ]
  },
  {
   "cell_type": "code",
   "execution_count": null,
   "id": "f0d3a682",
   "metadata": {},
   "outputs": [],
   "source": [
    "with xr.open_dataset('monthly.nc') as ds:\n",
    "    ds_jan = ds.sel(time=ds['time.month'] == m)['t2m']-273.13\n",
    "    norm = ds_jan-ds_jan.mean(dim='time')\n",
    "    p= norm.polyfit(dim='time', deg=1)\n",
    "    fit = xr.polyval(norm['time'], p.polyfit_coefficients)\n",
    "    norm_corr= norm-fit\n",
    "    fig = plt.figure(figsize=(15, 7))\n",
    "    ax = plt.axes(projection=ccrs.PlateCarree())\n",
    "\n",
    "    ax.add_feature(cfeature.LAND,facecolor='white')\n",
    "    ax.add_feature(cfeature.OCEAN, facecolor='white')\n",
    "    ax.add_feature(cfeature.COASTLINE)\n",
    "    ax.add_feature(cfeature.BORDERS,)\n",
    "    norm_corr.isel(time=66).plot(ax=ax,vmin=-5, vmax=5, cmap='RdBu_r')\n",
    "    #ds_jan.isel(time=66).plot(ax=ax,vmin=-20, vmax=30, cmap='RdBu_r')\n",
    "    #plt.title('Average Temperature January 2015')\n",
    "    plt.title('Average Temperature Anomaly January 2015')\n",
    "    plt.show()"
   ]
  },
  {
   "cell_type": "code",
   "execution_count": null,
   "id": "afda580c",
   "metadata": {},
   "outputs": [],
   "source": [
    "with xr.open_dataset('monthly.nc') as ds:\n",
    "    ds = ds.sel(time=ds['time.month'].isin([1,2,12]) )['t2m']-273.13\n",
    "    norm = ds-ds.mean(dim='time')\n",
    "    p= norm.polyfit(dim='time', deg=1)\n",
    "    fit = xr.polyval(norm['time'], p.polyfit_coefficients)\n",
    "    \n",
    "    "
   ]
  },
  {
   "cell_type": "code",
   "execution_count": null,
   "id": "d4d22721",
   "metadata": {},
   "outputs": [],
   "source": [
    "import xarray as xr\n",
    "import numpy as np\n",
    "with xr.open_dataset('monthly.nc') as ds:\n",
    "    ds = ds.sel(time=ds['time.month'].isin([9,10,11]))[['u10','v10']]\n",
    "    ds = np.sqrt(np.power(ds['u10'],2) + np.power(ds['v10'],2))\n",
    "    norm = ds-ds.mean(dim='time')\n",
    "    p= norm.polyfit(dim='time', deg=1)\n",
    "    fit = xr.polyval(norm['time'], p.polyfit_coefficients)"
   ]
  },
  {
   "cell_type": "code",
   "execution_count": null,
   "id": "0d666c23",
   "metadata": {},
   "outputs": [],
   "source": [
    "with xr.open_dataset('monthly.nc') as ds:\n",
    "    ds = ds.sel(time=ds['time.month'].isin([6]) )['ssr']\n",
    "    norm = ds-ds.mean(dim='time')\n",
    "    p= norm.polyfit(dim='time', deg=1)\n",
    "    fit = xr.polyval(norm['time'], p.polyfit_coefficients)\n",
    "    "
   ]
  },
  {
   "cell_type": "code",
   "execution_count": null,
   "id": "08bff2f6",
   "metadata": {},
   "outputs": [],
   "source": [
    "import matplotlib.pyplot as plt\n",
    "fig = plt.figure(figsize=(15, 7))\n",
    "ax = plt.axes(projection=ccrs.PlateCarree())\n",
    "\n",
    "ax.add_feature(cfeature.LAND,facecolor='white')\n",
    "ax.add_feature(cfeature.OCEAN, facecolor='white')\n",
    "ax.add_feature(cfeature.COASTLINE)\n",
    "ax.add_feature(cfeature.BORDERS)\n",
    "(fit.isel(time=-1)-fit.isel(time=0)).plot(vmax=4e6,vmin=-4e6, cmap='RdBu_r')\n",
    "\n",
    "plt.xlim(-20,30)\n",
    "plt.ylim(25,70)\n",
    "\n",
    "plt.title('MAM', fontsize=28)\n",
    "\n",
    "\n",
    "plt.show()"
   ]
  },
  {
   "cell_type": "code",
   "execution_count": null,
   "id": "80dac156",
   "metadata": {},
   "outputs": [],
   "source": [
    "ds.sel(latitude=60,longitude=8).plot(label='average')\n",
    "(fit+ds.mean(dim='time')).sel(latitude=60,longitude=8).plot(label='trend')\n",
    "plt.title('Monthly Average Temperature DJF Utrecht - ERA5')\n",
    "plt.legend()"
   ]
  },
  {
   "cell_type": "code",
   "execution_count": null,
   "id": "120e65aa",
   "metadata": {},
   "outputs": [],
   "source": [
    "with xr.open_dataset('monthly.nc') as ds:\n",
    "    print(ds.ssr)"
   ]
  }
 ],
 "metadata": {
  "kernelspec": {
   "display_name": "energy39",
   "language": "python",
   "name": "energy39"
  },
  "language_info": {
   "codemirror_mode": {
    "name": "ipython",
    "version": 3
   },
   "file_extension": ".py",
   "mimetype": "text/x-python",
   "name": "python",
   "nbconvert_exporter": "python",
   "pygments_lexer": "ipython3",
   "version": "3.9.16"
  }
 },
 "nbformat": 4,
 "nbformat_minor": 5
}
